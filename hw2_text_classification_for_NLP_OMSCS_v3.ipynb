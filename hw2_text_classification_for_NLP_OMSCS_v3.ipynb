{
 "cells": [
  {
   "cell_type": "markdown",
   "metadata": {},
   "source": [
    "Before you turn this problem in, make sure everything runs as expected. First, **restart the kernel** (in the menubar, select Kernel$\\rightarrow$Restart) and then **run all cells** (in the menubar, select Cell$\\rightarrow$Run All).\n",
    "\n",
    "Make sure you fill in any place that says `YOUR CODE HERE` or \"YOUR ANSWER HERE\", as well as your name and collaborators below:"
   ]
  },
  {
   "cell_type": "code",
   "execution_count": null,
   "metadata": {},
   "outputs": [],
   "source": [
    "NAME = \"\"\n",
    "COLLABORATORS = \"\""
   ]
  },
  {
   "cell_type": "markdown",
   "metadata": {},
   "source": [
    "---"
   ]
  },
  {
   "cell_type": "markdown",
   "metadata": {
    "id": "ywvLShfXIKS1"
   },
   "source": [
    "# NLP Classification\n",
    "\n",
    "In this assignment we look at several ways of classifying texts:\n",
    "- Naive Bayes\n",
    "- Logistic Regression\n",
    "- Multinomial Regression\n",
    "\n",
    "We also look at binary label classification problems (e.g., sentiment analysis) and multinomial classification problems (e.g., topic analysis).\n",
    "\n",
    "We will use two datasets:\n",
    "- [IMDb movie review sentiment](http://ai.stanford.edu/~amaas/data/sentiment/)\n",
    "- [AG News topics](https://huggingface.co/datasets/ag_news)\n",
    "\n",
    "**Tips:**\n",
    "- Read all the code. We don't ask you to write the training loops, or evaluation loops, but it is often instructive to see how the models are trained and evaluated.\n",
    "- If you have a model that is learning (loss is decreasing), but you want to increase accuracy, try using ``nn.Dropout`` layers just before the final linear layer to force the model to handle missing or unfamiliar data."
   ]
  },
  {
   "cell_type": "markdown",
   "metadata": {
    "id": "1xVv6McXodZG"
   },
   "source": [
    "# Set up"
   ]
  },
  {
   "cell_type": "markdown",
   "metadata": {
    "id": "vMRiPTv7vHe2"
   },
   "source": [
    "Import packages."
   ]
  },
  {
   "cell_type": "code",
   "execution_count": null,
   "metadata": {
    "id": "S5VeRBOiIKS4"
   },
   "outputs": [],
   "source": [
    "import nltk\n",
    "import numpy as np\n",
    "import os\n",
    "import pandas as pd\n",
    "import re\n",
    "import torch\n",
    "import torch.nn as nn\n",
    "import torch.nn.functional as F\n",
    "import torch.optim as optim\n",
    "\n",
    "from collections import defaultdict\n",
    "from nltk.corpus import stopwords\n",
    "from sklearn.linear_model import LogisticRegression\n",
    "from sklearn.metrics import classification_report\n",
    "from sklearn.naive_bayes import MultinomialNB\n",
    "\n",
    "# This will allow visualization of the neural network structure\n",
    "!pip install -U git+https://github.com/szagoruyko/pytorchviz.git@master\n",
    "from torchviz import make_dot"
   ]
  },
  {
   "cell_type": "markdown",
   "metadata": {
    "id": "q8r3ho388zST"
   },
   "source": [
    "Check if GPU available."
   ]
  },
  {
   "cell_type": "code",
   "execution_count": null,
   "metadata": {
    "id": "mws7jUg9oh_f"
   },
   "outputs": [],
   "source": [
    "# Use cuda if present\n",
    "device = torch.device(\"cuda\" if torch.cuda.is_available() else \"cpu\")\n",
    "print(\"Device available for running: \")\n",
    "print(device)"
   ]
  },
  {
   "cell_type": "markdown",
   "metadata": {
    "id": "qyRo0v0JIKTK"
   },
   "source": [
    "# Functions for cleaning up raw texts and tokenizing the corpus\n",
    "\n",
    "We perform text preprocessing that includes: removing HTML tags, making text lower case, stemming, and disposing of stopwords. \n",
    "In the end, we will split the entire dataset into training, validation and test sets."
   ]
  },
  {
   "cell_type": "code",
   "execution_count": null,
   "metadata": {
    "id": "JvfvVWHyIKTL"
   },
   "outputs": [],
   "source": [
    "# Stemming the text\n",
    "def simple_stemmer(text):\n",
    "    ps=nltk.porter.PorterStemmer()\n",
    "    text= [ps.stem(word) for word in text]\n",
    "    return text"
   ]
  },
  {
   "cell_type": "code",
   "execution_count": null,
   "metadata": {
    "id": "Wr_LdWWoIKTL"
   },
   "outputs": [],
   "source": [
    "stopwords_english = [\"i\", \"me\", \"my\", \"myself\", \"we\", \"our\", \"ours\", \"ourselves\", \"you\", \"your\", \"yours\", \"yourself\", \"yourselves\", \"he\", \"him\", \"his\", \"himself\", \"she\", \"her\", \"hers\", \"herself\", \"it\", \"its\", \"itself\", \"they\", \"them\", \"their\", \"theirs\", \"themselves\", \"what\", \"which\", \"who\", \"whom\", \"this\", \"that\", \"these\", \"those\", \"am\", \"is\", \"are\", \"was\", \"were\", \"be\", \"been\", \"being\", \"have\", \"has\", \"had\", \"having\", \"do\", \"does\", \"did\", \"doing\", \"a\", \"an\", \"the\", \"and\", \"but\", \"if\", \"or\", \"because\", \"as\", \"until\", \"while\", \"of\", \"at\", \"by\", \"for\", \"with\", \"about\", \"against\", \"between\", \"into\", \"through\", \"during\", \"before\", \"after\", \"above\", \"below\", \"to\", \"from\", \"up\", \"down\", \"in\", \"out\", \"on\", \"off\", \"over\", \"under\", \"again\", \"further\", \"then\", \"once\", \"here\", \"there\", \"when\", \"where\", \"why\", \"how\", \"all\", \"any\", \"both\", \"each\", \"few\", \"more\", \"most\", \"other\", \"some\", \"such\", \"no\", \"nor\", \"not\", \"only\", \"own\", \"same\", \"so\", \"than\", \"too\", \"very\", \"s\", \"t\", \"can\", \"will\", \"just\", \"don\", \"should\", \"now\"]\n",
    "print(stopwords_english)\n",
    "\n",
    "#removing the stopwords\n",
    "def remove_stopwords(text, stopword_list):\n",
    "    tokens = [token.strip() for token in text]\n",
    "    filtered_tokens = [token for token in tokens if token.lower() not in stopword_list]\n",
    "    return filtered_tokens"
   ]
  },
  {
   "cell_type": "code",
   "execution_count": null,
   "metadata": {
    "id": "NCXHv_tZIKTM"
   },
   "outputs": [],
   "source": [
    "def tokenize_and_clean(line, stem_and_remove_stop_words = True):\n",
    "\n",
    "    line = re.sub(r\"<.*?>\", \"\", line).strip() # remove all HTML tags \n",
    "    line = re.sub(r'[^a-zA-Z0-9]', ' ', line) # remove punc\n",
    "    line = line.lower().split()  # lower case\n",
    "    if stem_and_remove_stop_words:\n",
    "        line = remove_stopwords(line, stopwords_english)\n",
    "        line = simple_stemmer(line)\n",
    "\n",
    "    return line"
   ]
  },
  {
   "cell_type": "markdown",
   "metadata": {
    "id": "ohc6u_lDIKS-"
   },
   "source": [
    "# Download and unpack the sentiment data\n",
    "\n"
   ]
  },
  {
   "cell_type": "markdown",
   "metadata": {
    "id": "zIklHox9vjMI"
   },
   "source": [
    "We are using IMDb Dataset for binary sentiment classification that provides a set of 25K highly polar reviews for training, and 25K for testing \n",
    "(each set contains an equal number of positive and negative examples). \n",
    "\n",
    "Dataset folder structure is as follows:\n",
    "\n",
    "dataset/ \\\n",
    "├── test/ \\\n",
    "│     ├── pos/ \\\n",
    "│     ├── neg/ \\\n",
    "├── train/ \\\n",
    "      ├── pos/ \\\n",
    "      └── neg/ "
   ]
  },
  {
   "cell_type": "code",
   "execution_count": null,
   "metadata": {
    "id": "BqHNeua_IKS_",
    "tags": []
   },
   "outputs": [],
   "source": [
    "!wget http://ai.stanford.edu/~amaas/data/sentiment/aclImdb_v1.tar.gz\n",
    "!gunzip aclImdb_v1.tar.gz\n",
    "!tar -xvf aclImdb_v1.tar"
   ]
  },
  {
   "cell_type": "markdown",
   "metadata": {
    "id": "GRD03KapvnI0"
   },
   "source": [
    "Load in the text from the folders."
   ]
  },
  {
   "cell_type": "code",
   "execution_count": null,
   "metadata": {
    "id": "HI3VdrTnIKTO"
   },
   "outputs": [],
   "source": [
    "def load_text_from_folders(path, file_list, dataset, samples = 1000, stem_and_remove_stop_words = True):\n",
    "    \"\"\"Read set of files from given directory and save returned lines to list.\n",
    "    \n",
    "    Parameters\n",
    "    ----------\n",
    "    path : str\n",
    "        Absolute or relative path to given file (or set of files).\n",
    "    file_list: list\n",
    "        List of files names to read.\n",
    "    dataset: list\n",
    "        List that stores read lines.\n",
    "    samples: int\n",
    "        Number of samples in the output\n",
    "    \"\"\"\n",
    "    for i, file in enumerate(file_list):\n",
    "        if i >= samples:\n",
    "            break\n",
    "        with open(os.path.join(path, file), 'r', encoding='utf8') as text:\n",
    "            contents = text.read()\n",
    "            contents_tokenized = tokenize_and_clean(contents, stem_and_remove_stop_words=stem_and_remove_stop_words)\n",
    "            dataset.append(contents_tokenized)"
   ]
  },
  {
   "cell_type": "markdown",
   "metadata": {
    "id": "_8KuCNoXIKTO"
   },
   "source": [
    "# Creating training and test sets\n",
    "\n",
    "This creates four arrays: \n",
    "\n",
    "\n",
    "*   ```train_pos``` -- instances in the training set with positive sentiment labels\n",
    "*   ```train_neg``` -- instances in the training set with negative sentiment labels\n",
    "*   ```test_pos``` -- instances in the testing set with positive sentiment labels\n",
    "*   ```test_neg``` -- instances in the testing set with negative sentiment labels\n",
    "\n",
    "\n",
    "\n"
   ]
  },
  {
   "cell_type": "code",
   "execution_count": null,
   "metadata": {
    "id": "4Nv5FvBIIKTO"
   },
   "outputs": [],
   "source": [
    "# Path to dataset location\n",
    "path = 'aclImdb/'\n",
    "\n",
    "# Create lists that will contain read lines\n",
    "train_pos, train_neg, test_pos, test_neg = [], [], [], []\n",
    "\n",
    "# Create a dictionary of paths and lists that store lines (key: value = path: list)\n",
    "sets_dict = {'train/pos/': train_pos, 'train/neg/': train_neg,\n",
    "             'test/pos/': test_pos, 'test/neg/': test_neg}\n",
    "\n",
    "# Load the data\n",
    "for dataset in sets_dict:\n",
    "  file_list = [f for f in os.listdir(os.path.join(path, dataset)) if f.endswith('.txt')]\n",
    "  load_text_from_folders(os.path.join(path, dataset), file_list, sets_dict[dataset])"
   ]
  },
  {
   "cell_type": "markdown",
   "metadata": {
    "id": "3t5nCE_xpvx7"
   },
   "source": [
    "Convert into Pandas dataframes. Pandas is a virtual spreadsheet with a programmatic API. A ```DataFrame``` is a spreadsheet. We will make a spreadsheet of training data and one for testing data and one with everything together."
   ]
  },
  {
   "cell_type": "code",
   "execution_count": null,
   "metadata": {
    "id": "kovNgXqIIKTP"
   },
   "outputs": [],
   "source": [
    "# Concatenate training and testing examples into one dataset\n",
    "TRAIN = pd.concat([pd.DataFrame({'review': train_pos, 'label':1}),\n",
    "                     pd.DataFrame({'review': train_neg, 'label':0})],\n",
    "                     axis=0, ignore_index=True)\n",
    "\n",
    "TEST = pd.concat([pd.DataFrame({'review': test_pos, 'label':1}),\n",
    "                    pd.DataFrame({'review': test_neg, 'label':0})],\n",
    "                    axis=0, ignore_index=True)\n",
    "\n",
    "ALL = pd.concat([TRAIN, TEST])"
   ]
  },
  {
   "cell_type": "markdown",
   "metadata": {
    "id": "CKUFtqERp79N"
   },
   "source": [
    "Look at the data. \n",
    "\n",
    "This is a summary of the data. We see that the data is balanced between labels"
   ]
  },
  {
   "cell_type": "code",
   "execution_count": null,
   "metadata": {
    "id": "0xPnt_CDIKTP"
   },
   "outputs": [],
   "source": [
    "TRAIN.label.value_counts()"
   ]
  },
  {
   "cell_type": "markdown",
   "metadata": {
    "id": "QlV_TMBLqOYB"
   },
   "source": [
    "This is the first few rows of the training set:"
   ]
  },
  {
   "cell_type": "code",
   "execution_count": null,
   "metadata": {
    "id": "InVC2IvnIKTQ"
   },
   "outputs": [],
   "source": [
    "TRAIN.head()"
   ]
  },
  {
   "cell_type": "markdown",
   "metadata": {
    "id": "3jP5U6usIKTR"
   },
   "source": [
    "# Creating a vocabulary file \n",
    "\n",
    "Next, we have to build a vocabulary. This is effectively a look-up table where every unique word in your data set has a corresponding index (an integer).\n",
    "We do this as our machine learning model cannot operate on strings, but only numbers. Each index is used to construct a one-hot vector for each word."
   ]
  },
  {
   "cell_type": "code",
   "execution_count": null,
   "metadata": {
    "id": "Oz6hQlCgqckU"
   },
   "outputs": [],
   "source": [
    "class Vocab:\n",
    "    def __init__(self, name):\n",
    "        self.name = name\n",
    "        self._word2index = {}\n",
    "        self._word2count = {}\n",
    "        self._index2word = {}\n",
    "        self._n_words = 0  \n",
    "\n",
    "    def get_words(self):\n",
    "      return list(self._word2count.keys())\n",
    "\n",
    "    def num_words(self):\n",
    "      return self._n_words\n",
    "\n",
    "    def word2index(self, word):\n",
    "      return self._word2index[word]\n",
    "\n",
    "    def index2word(self, word):\n",
    "      return self._index2word[word]\n",
    "\n",
    "    def word2count(self, word):\n",
    "      return self._word2count[word]\n",
    "\n",
    "    def add_sentence(self, sentence):\n",
    "        for word in sentence.split(' '):\n",
    "            self.add_word(word)\n",
    "\n",
    "    def add_word(self, word):\n",
    "        if word not in self._word2index:\n",
    "            self._word2index[word] = self._n_words\n",
    "            self._word2count[word] = 1\n",
    "            self._index2word[self._n_words] = word\n",
    "            self._n_words += 1\n",
    "        else:\n",
    "            self._word2count[word] += 1"
   ]
  },
  {
   "cell_type": "markdown",
   "metadata": {
    "id": "UT7oI7pXw9wA"
   },
   "source": [
    "Make a vocab object."
   ]
  },
  {
   "cell_type": "code",
   "execution_count": null,
   "metadata": {
    "id": "-FLxtGNgw79Q"
   },
   "outputs": [],
   "source": [
    "VOCAB = Vocab(\"imdb\")\n",
    "VOCAB_SIZE = 1000\n",
    "NUM_LABELS = 2"
   ]
  },
  {
   "cell_type": "markdown",
   "metadata": {
    "id": "ggqgPtCSxAG-"
   },
   "source": [
    "Load the first ```n``` frequent words in the vocabulary. Do this by sorting by frequency and then truncating."
   ]
  },
  {
   "cell_type": "code",
   "execution_count": null,
   "metadata": {
    "id": "DAiKNELzwC2T"
   },
   "outputs": [],
   "source": [
    "# Get word frequency counts\n",
    "word_freq_dict = {}   # key = word, value = frequency\n",
    "for review in ALL['review']:\n",
    "  for word in review:\n",
    "    if word in word_freq_dict:\n",
    "      word_freq_dict[word] += 1\n",
    "    else:\n",
    "      word_freq_dict[word] = 1\n",
    "\n",
    "# Get a list of (word, freq) tuples sorted by frequency\n",
    "kv_list = []  # list of word-freq tuples so can sort\n",
    "for (k,v) in word_freq_dict.items():\n",
    "  kv_list.append((k,v))\n",
    "sorted_kv_list = sorted(kv_list, key=lambda x: x[1], reverse=True)\n",
    "\n",
    "# Load top n words in to vocab object\n",
    "for word, freq in sorted_kv_list[:VOCAB_SIZE]:\n",
    "  VOCAB.add_word(word)"
   ]
  },
  {
   "cell_type": "markdown",
   "metadata": {
    "id": "hvh0yHT_IKTi"
   },
   "source": [
    "# Naive Bayes\n",
    "Naive Bayes Algorithm is based on the Bayes Rule which describes the probability of an event, \n",
    "based on prior knowledge of conditions that might be related to the event.\n",
    "\n",
    "According to Bayes theorem:\n",
    "\n",
    "\n",
    "```Posterior = likelihood * proposition/evidence```\n",
    "\n",
    "or\n",
    "\n",
    "```P(A|B) = P(B|A) * P(A)/P(B)```\n"
   ]
  },
  {
   "cell_type": "markdown",
   "metadata": {
    "id": "vELAfeWDRrNq"
   },
   "source": [
    "Using word presence as features, create an array of features for each review. Each review will thus be an array of size ```len(vocab)``` where each index in the array is a token number and the value in that position is whether the token is present in the review. There will be ```num_rows``` arrays, making a ```num_rows x len(vocab)``` 2D array."
   ]
  },
  {
   "cell_type": "markdown",
   "metadata": {
    "id": "DFf6zYmozBtc"
   },
   "source": [
    "This function creates a bag of words. It returns a vector where each element is a count of the words in the sentence corresponding to the word index."
   ]
  },
  {
   "cell_type": "code",
   "execution_count": null,
   "metadata": {
    "id": "DKCwfenwIKTw"
   },
   "outputs": [],
   "source": [
    "def make_bow(sentence):\n",
    "    vec = torch.zeros(VOCAB_SIZE, dtype=torch.float64)\n",
    "    for word in sentence:\n",
    "        if word not in VOCAB.get_words():\n",
    "            continue\n",
    "        vec[VOCAB.word2index(word)] += 1\n",
    "    return vec.view(1, -1)"
   ]
  },
  {
   "cell_type": "markdown",
   "metadata": {
    "id": "NHweI8gPzOdh"
   },
   "source": [
    "Prepare data ```X_TRAIN``` is a 2D array of size ```num_reviews x vocab_size``` that contains training data. Each row will be a bag of words, except each index contains a 1 or 0 based on word presence in the example. Each row is a vector of features $\\phi_1 ... \\phi_{|V|}$ assumed to be independent, where $|V|$ is size of the vocabulary. We don't need to know what the features are, only whether they are present in each example in the training set.\n",
    "\n",
    "```X_TEST``` is the same as above but containing testing data.\n",
    "\n",
    " "
   ]
  },
  {
   "cell_type": "code",
   "execution_count": null,
   "metadata": {
    "id": "c30F5ZwyIKTw"
   },
   "outputs": [],
   "source": [
    "# Vectorize text reviews to numbers \n",
    "# Make empty vectors\n",
    "X_TRAIN = np.zeros((len(TRAIN), VOCAB_SIZE))\n",
    "X_TEST = np.zeros((len(TEST), VOCAB_SIZE))\n",
    "\n",
    "# Load in frequency counts\n",
    "for i, row in TRAIN.iterrows():\n",
    "    X_TRAIN[i] = np.array(make_bow(row['review'])) > 0 # The > 0 converts to presence instead of counts\n",
    "\n",
    "for i, row in TEST.iterrows():\n",
    "    X_TEST[i] = np.array(make_bow(row['review'])) > 0 # The > 0 converts to presence instead of counts\n",
    "\n",
    "# The labels\n",
    "Y_TRAIN = np.array(TRAIN['label'])\n",
    "Y_TEST = np.array(TEST['label'])"
   ]
  },
  {
   "cell_type": "markdown",
   "metadata": {
    "id": "ao16p7_U7Zdz"
   },
   "source": [
    "What you want to do is to compute probabilities over the training data and then apply those probabilities to the testing examples. Use the Bayes formula to compute $P_{\\rm test}(L_{+}|\\phi_{0:|V|})$ and $P_{\\rm test}(L_{-}|\\phi_{0:|V|})$ for each review. Classify examples based on whether one probability is higher than another. That is, $sign(P_{\\rm test}(L_{+}|\\phi_{0:|V|}) - P_{\\rm test}(L_{-}|\\phi_{0:|V|}))$ indicates a positive review when greater than 0 and a negative review when less than 0.\n",
    "\n",
    "**Hint:** You do not need to implement any loops. Numpy indexing and slicing operations, along with built in functions like `.mean()`, `.sum()`, etc. will allow all operations to be performed on each row of the data in parallel. "
   ]
  },
  {
   "cell_type": "markdown",
   "metadata": {
    "id": "Q2ch6U7uNmeN"
   },
   "source": [
    "Step 1: Compute the positive label condition:\n",
    "$P(L_{+}|\\phi_{0:|V|}) = P(\\phi_{0:|V|}|L_{+})P(L_{+}) / P(\\phi_{0:|V|})$"
   ]
  },
  {
   "cell_type": "code",
   "execution_count": null,
   "metadata": {
    "deletable": false,
    "id": "AwAAV9Zq7YbI",
    "nbgrader": {
     "cell_type": "code",
     "checksum": "92849a5596ef346c7f7d64246442952c",
     "grade": false,
     "grade_id": "cell-4e927fe9f8caf96a",
     "locked": false,
     "schema_version": 3,
     "solution": true,
     "task": false
    },
    "tags": []
   },
   "outputs": [],
   "source": [
    "def prob_pos_given_features(x_train, y_train):\n",
    "  log_probs = np.array([0] * x_train.shape[1]) \n",
    "  # YOUR CODE HERE\n",
    "  raise NotImplementedError()\n",
    "  return log_probs\n",
    "  "
   ]
  },
  {
   "cell_type": "markdown",
   "metadata": {
    "id": "5eeKepgkNpNa"
   },
   "source": [
    "Step 2: Compute the negative label condition:\n",
    "$P(L_{-}|\\phi_{0:|V|}) = P(\\phi_{0:|V|}|L_{-})P(L_{-}) / P(\\phi_{0:|V|})$"
   ]
  },
  {
   "cell_type": "code",
   "execution_count": null,
   "metadata": {
    "deletable": false,
    "id": "nWP9U3BuMess",
    "nbgrader": {
     "cell_type": "code",
     "checksum": "ae513d49bd65a8146848e5f5aa9119da",
     "grade": false,
     "grade_id": "cell-996c909da2d8b8bd",
     "locked": false,
     "schema_version": 3,
     "solution": true,
     "task": false
    },
    "tags": []
   },
   "outputs": [],
   "source": [
    "def prob_neg_given_features(x_train, y_train):\n",
    "  log_probs = np.array([0] * x_train.shape[1]) \n",
    "  # YOUR CODE HERE\n",
    "  raise NotImplementedError()\n",
    "  return log_probs"
   ]
  },
  {
   "cell_type": "code",
   "execution_count": null,
   "metadata": {
    "id": "ZXdgx0Ku9sYq"
   },
   "outputs": [],
   "source": [
    "pos_probs = prob_pos_given_features(X_TRAIN, Y_TRAIN)\n",
    "neg_probs = prob_neg_given_features(X_TRAIN, Y_TRAIN)"
   ]
  },
  {
   "cell_type": "markdown",
   "metadata": {
    "id": "q9wbtxDZNuj3"
   },
   "source": [
    "Step 3: Make a label prediction. Subtract (in log scale) the positive from the negative. If the result is greater than zero then it is a prediction of `+` label. If the result is less thn zero then we make a prediction of `-` label. "
   ]
  },
  {
   "cell_type": "code",
   "execution_count": null,
   "metadata": {
    "deletable": false,
    "id": "xaz7KBdd_CD1",
    "nbgrader": {
     "cell_type": "code",
     "checksum": "46c358117130ab2c03ed64eb2319b1b4",
     "grade": false,
     "grade_id": "cell-7b4cde57fd68ac07",
     "locked": false,
     "schema_version": 3,
     "solution": true,
     "task": false
    },
    "tags": []
   },
   "outputs": [],
   "source": [
    "def naive_bayes(x, pos_probs, neg_probs):\n",
    "  label = 0\n",
    "  # YOUR CODE HERE\n",
    "  raise NotImplementedError()\n",
    "  return label"
   ]
  },
  {
   "cell_type": "markdown",
   "metadata": {
    "id": "VUOFzFVU_is3"
   },
   "source": [
    "# Naive Bayes Test (20 Points)"
   ]
  },
  {
   "cell_type": "code",
   "execution_count": null,
   "metadata": {
    "id": "Lr3PgUnxPYet"
   },
   "outputs": [],
   "source": [
    "def test_naive_bayes(x_train, y_train, x_test, y_test):\n",
    "  # Get the positive and negative feature probabilities\n",
    "  pos_probs = prob_pos_given_features(x_train, y_train)\n",
    "  neg_probs = prob_neg_given_features(x_train, y_train)\n",
    "  correct = 0 # How many tests are correct\n",
    "  # Iterate through the test set\n",
    "  for x, y in zip(x_test, y_test):\n",
    "    # Get the naive_bayes label\n",
    "    label = naive_bayes(x, pos_probs, neg_probs)\n",
    "    # Compare the label against the true label\n",
    "    correct = correct + int(label == y)\n",
    "  return correct / x_test.shape[0]"
   ]
  },
  {
   "cell_type": "code",
   "execution_count": null,
   "metadata": {
    "id": "T1rcPgnWP_6V"
   },
   "outputs": [],
   "source": [
    "# student check - accuracies >= 80% will receive full credit (no credit for less than 80%)\n",
    "test_naive_bayes(X_TRAIN, Y_TRAIN, X_TEST, Y_TEST)"
   ]
  },
  {
   "cell_type": "code",
   "execution_count": null,
   "metadata": {
    "deletable": false,
    "editable": false,
    "id": "AXcKoWBiO35Q",
    "nbgrader": {
     "cell_type": "code",
     "checksum": "a29d4009b7f9e2ae71376d5c6f91b731",
     "grade": true,
     "grade_id": "cell-d47a2bcfa7277d64",
     "locked": true,
     "points": 20,
     "schema_version": 3,
     "solution": false,
     "task": false
    },
    "tags": []
   },
   "outputs": [],
   "source": [
    "''' Hidden auto-grader test - do not delete this cell '''"
   ]
  },
  {
   "cell_type": "markdown",
   "metadata": {
    "id": "hUTymITZIKT5"
   },
   "source": [
    "# Logistic Regression - Part 1\n",
    "\n",
    "We will be using a neural network to perform logistic regression. We will use word counts as the input feature vector.\n"
   ]
  },
  {
   "cell_type": "markdown",
   "metadata": {
    "id": "DWKJNb2CXhe5"
   },
   "source": [
    "Reload the data, but use word counts instead of word presence."
   ]
  },
  {
   "cell_type": "code",
   "execution_count": null,
   "metadata": {
    "id": "sBjsMbDSIKT6"
   },
   "outputs": [],
   "source": [
    "# Randomize the data\n",
    "TRAIN = TRAIN.sample(frac=1).reset_index(drop=True)\n",
    "TEST = TEST.sample(frac=1).reset_index(drop=True)\n",
    "\n",
    "# Vectorize text reviews to numbers\n",
    "X_TRAIN = np.zeros((len(TRAIN), VOCAB_SIZE))\n",
    "X_TEST = np.zeros((len(TEST), VOCAB_SIZE))\n",
    "\n",
    "for i, row in TRAIN.iterrows():\n",
    "  X_TRAIN[i] = np.array(make_bow(row['review']))\n",
    "\n",
    "for i, row in TEST.iterrows():\n",
    "  X_TEST[i] = np.array(make_bow(row['review']))\n",
    "\n",
    "Y_TRAIN = np.array(TRAIN['label'])\n",
    "Y_TEST = np.array(TEST['label'])"
   ]
  },
  {
   "cell_type": "markdown",
   "metadata": {
    "id": "mSBC93Ge6F1e"
   },
   "source": [
    "Make a logistic classifier torch neural network.\n",
    "\n",
    "Complete the constructor and forward function. The net will take an arbitrary number of outputs, but for binary logistic regression, only one is needed because the single output neuron can take a value that is between 0 and 1, with 0 meaning negative sentiment and 1 meaning positive sentiment. There should only be as many parameters as ```num_features x (num_labels-1)``` in binary logistic regression and ```num_features x num_labels``` for multinomial logistic regression.\n",
    "\n",
    "The input will be a one-hot vector of size `vocab_size`."
   ]
  },
  {
   "cell_type": "code",
   "execution_count": null,
   "metadata": {
    "deletable": false,
    "id": "yeJnVl7NIKT8",
    "nbgrader": {
     "cell_type": "code",
     "checksum": "ba378ab9d657819e1adceeb09edaf545",
     "grade": false,
     "grade_id": "cell-c6124df74ac9d8f1",
     "locked": false,
     "schema_version": 3,
     "solution": true,
     "task": false
    },
    "tags": []
   },
   "outputs": [],
   "source": [
    "# Defining neural network structure\n",
    "class BoWClassifier(nn.Module):  # inheriting from nn.Module!\n",
    "\n",
    "  def __init__(self, num_labels, vocab_size):\n",
    "    super(BoWClassifier, self).__init__()\n",
    "\n",
    "    # YOUR CODE HERE\n",
    "    raise NotImplementedError()\n",
    "\n",
    "  def forward(self, bow_vec): \n",
    "    # YOUR CODE HERE\n",
    "    raise NotImplementedError()\n",
    "    return out"
   ]
  },
  {
   "cell_type": "markdown",
   "metadata": {
    "id": "ZuxMl7K26Q88"
   },
   "source": [
    "Make the model, move it to the GPU."
   ]
  },
  {
   "cell_type": "code",
   "execution_count": null,
   "metadata": {
    "id": "mgPYvkocIKT8"
   },
   "outputs": [],
   "source": [
    "# Initialize the model\n",
    "# Use one label because the head can signify a 1 or 0 because of the sigmoid. \n",
    "bow_nn_model = BoWClassifier(NUM_LABELS-1, VOCAB_SIZE)\n",
    "bow_nn_model.to(device)"
   ]
  },
  {
   "cell_type": "markdown",
   "metadata": {
    "id": "xaBdfHfDQ5oI"
   },
   "source": [
    "This function should return two tensors. The first, containing training data, shoud be of size ```batch_size x vocab_size``` for the ```i```th batch. The second should be a list of labels of size ```batch_size```. Both tensors should be of type ```dtype=torch.float```."
   ]
  },
  {
   "cell_type": "code",
   "execution_count": null,
   "metadata": {
    "deletable": false,
    "id": "RPxjUwUTPZTq",
    "nbgrader": {
     "cell_type": "code",
     "checksum": "76a4980dd49cb5893ebfeeea42605a3e",
     "grade": false,
     "grade_id": "cell-abf634c3a00755c7",
     "locked": false,
     "schema_version": 3,
     "solution": true,
     "task": false
    },
    "tags": []
   },
   "outputs": [],
   "source": [
    "def get_batch(i, batch_size, x_data, y_data):\n",
    "  # Make some empty tensors\n",
    "  x = torch.zeros([batch_size, x_data.shape[1]])\n",
    "  y = torch.zeros([batch_size, 1]) \n",
    "  # YOUR CODE HERE\n",
    "  raise NotImplementedError()\n",
    "  return x, y"
   ]
  },
  {
   "cell_type": "markdown",
   "metadata": {
    "id": "2eMh98LwOwv_"
   },
   "source": [
    "# Logistic Regression - Part 1 Test (20 Points)"
   ]
  },
  {
   "cell_type": "code",
   "execution_count": null,
   "metadata": {
    "deletable": false,
    "editable": false,
    "id": "muyKFe6tRevo",
    "nbgrader": {
     "cell_type": "code",
     "checksum": "1a785d07a82ee1ef92daf307f4a29285",
     "grade": true,
     "grade_id": "cell-f5c3c6db8f3f380d",
     "locked": true,
     "points": 10,
     "schema_version": 3,
     "solution": false,
     "task": false
    },
    "tags": []
   },
   "outputs": [],
   "source": [
    "''' Hidden auto-grader test - do not delete this cell '''"
   ]
  },
  {
   "cell_type": "code",
   "execution_count": null,
   "metadata": {
    "id": "tp-B0qeXNnyo"
   },
   "outputs": [],
   "source": [
    "# student check\n",
    "batch_index = 0\n",
    "batch_size = 1000\n",
    "x, y = get_batch(batch_index, batch_size, X_TRAIN, Y_TRAIN)\n",
    "print(x.shape)\n",
    "print(y.shape)"
   ]
  },
  {
   "cell_type": "code",
   "execution_count": null,
   "metadata": {
    "deletable": false,
    "editable": false,
    "id": "jsZqfZymZ5Ad",
    "nbgrader": {
     "cell_type": "code",
     "checksum": "ddc488f9413d32fd63049b83398d1934",
     "grade": true,
     "grade_id": "cell-1dcd3ba66473b255",
     "locked": true,
     "points": 5,
     "schema_version": 3,
     "solution": false,
     "task": false
    },
    "tags": []
   },
   "outputs": [],
   "source": [
    "''' Hidden auto-grader test - do not delete this cell '''"
   ]
  },
  {
   "cell_type": "code",
   "execution_count": null,
   "metadata": {
    "id": "FdPVSLtrN_2k"
   },
   "outputs": [],
   "source": [
    "# student check - your model must have the expected number of layers to receive full credit, no credit otherwise\n",
    "if len(list(bow_nn_model.children())) != 1:\n",
    "  print(\"Model does not have the expected number of layers.\")\n",
    "else:\n",
    "  print(\"Your model has one layer as expected!\")\n"
   ]
  },
  {
   "cell_type": "code",
   "execution_count": null,
   "metadata": {
    "deletable": false,
    "editable": false,
    "id": "Qpdx8wbRaLGe",
    "nbgrader": {
     "cell_type": "code",
     "checksum": "b2573b22da0fbdfb9f430f734860b665",
     "grade": true,
     "grade_id": "cell-4316b749692a676b",
     "locked": true,
     "points": 5,
     "schema_version": 3,
     "solution": false,
     "task": false
    },
    "tags": []
   },
   "outputs": [],
   "source": [
    "''' Hidden auto-grader test - do not delete this cell '''"
   ]
  },
  {
   "cell_type": "code",
   "execution_count": null,
   "metadata": {
    "id": "FOYrmRVUj7g7"
   },
   "outputs": [],
   "source": [
    "# student check\n",
    "y_hat = bow_nn_model(x.to(device))\n",
    "y_hat = y_hat.reshape(-1)\n",
    "if y_hat.shape[0] == batch_size:\n",
    "  print(\"Forward pass output shape looks good!\")\n",
    "else:\n",
    "  print(\"Seems to be an issue with output shape in your model...\")\n",
    "make_dot(y_hat, dict(bow_nn_model.named_parameters()))"
   ]
  },
  {
   "cell_type": "markdown",
   "metadata": {
    "id": "rN5v9cjKif_H"
   },
   "source": [
    "# Logistic Regression - Part 2\n",
    "\n",
    "Create a dataset as an array of (X_train, label).\n",
    "\n",
    "Complete ```get_batch(i)``` and set ```batch_size``` and ```num_epochs```.\n",
    "\n",
    "Training loop will call ```get_batch()``` with the iteration number and do everything else.\n"
   ]
  },
  {
   "cell_type": "code",
   "execution_count": null,
   "metadata": {
    "id": "paJEFuigIKT-"
   },
   "outputs": [],
   "source": [
    "# Train the model\n",
    "def train(model, train_data, test_data, epochs, batch_size):\n",
    "  n_iter = len(train_data) // batch_size\n",
    "  print(n_iter, 'batches per epoch')\n",
    "  # Loss Function\n",
    "  loss_function = nn.BCELoss()\n",
    "  # Optimizer initlialization\n",
    "  optimizer = optim.SGD(bow_nn_model.parameters(), lr=0.1)\n",
    "\n",
    "  for epoch in range(epochs):\n",
    "    # Make BOW vector for input features and target label\n",
    "    for i in range(n_iter):\n",
    "      x, y = get_batch(i, batch_size, train_data, test_data)\n",
    "\n",
    "      # Step 3. Run the forward pass.\n",
    "      y_hat = model(x.to(device))\n",
    "      y_hat = y_hat.reshape(-1)\n",
    "\n",
    "      # Step 4. Compute the loss, gradients, and update the parameters by\n",
    "      loss = loss_function(y_hat,y.to(device))\n",
    "      optimizer.zero_grad()\n",
    "      loss.backward()\n",
    "      optimizer.step()\n",
    "    \n",
    "      if (epoch+1)%10 == 0 and (i+1) == n_iter:\n",
    "        print('epoch:', epoch+1,',loss =',loss.item(), ', training accuracy =',(torch.round(y_hat)==y.to(device)).float().mean())\n",
    "  return model"
   ]
  },
  {
   "cell_type": "code",
   "execution_count": null,
   "metadata": {
    "id": "gzD90s3KQgJd"
   },
   "outputs": [],
   "source": [
    "# It's ok to modify this cell.\n",
    "BATCH_SIZE = 100\n",
    "N_EPOCHS = 1000"
   ]
  },
  {
   "cell_type": "code",
   "execution_count": null,
   "metadata": {
    "id": "Tv8Lqg8T949T",
    "tags": []
   },
   "outputs": [],
   "source": [
    "bow_nn_model = train(bow_nn_model, X_TRAIN, Y_TRAIN, N_EPOCHS, BATCH_SIZE)"
   ]
  },
  {
   "cell_type": "markdown",
   "metadata": {
    "id": "G4D7NpQlkBGf"
   },
   "source": [
    "# Logistic Regression - Part 2 Test (20 Points)"
   ]
  },
  {
   "cell_type": "code",
   "execution_count": null,
   "metadata": {
    "id": "OoOf1CcWIKT-"
   },
   "outputs": [],
   "source": [
    "from sklearn.metrics import classification_report\n",
    "\n",
    "bow_nn_predictions = []\n",
    "\n",
    "with torch.no_grad():\n",
    "    for index, row in TEST.iterrows():\n",
    "        bow_vec = make_bow(row['review'])\n",
    "        probs = bow_nn_model(bow_vec.float().to(device))\n",
    "        pred = 1 if probs[0][0] > 0.5 else 0\n",
    "        bow_nn_predictions.append(pred)"
   ]
  },
  {
   "cell_type": "code",
   "execution_count": null,
   "metadata": {
    "id": "qW0uESVguCuL"
   },
   "outputs": [],
   "source": [
    "# student check - accuracies >= 80% will receive full credit (no credit for less than 80%)\n",
    "print(classification_report(TEST['label'],bow_nn_predictions))\n",
    "(bow_nn_predictions==TEST['label']).mean() "
   ]
  },
  {
   "cell_type": "code",
   "execution_count": null,
   "metadata": {
    "deletable": false,
    "editable": false,
    "id": "LD3y8LCKhH74",
    "nbgrader": {
     "cell_type": "code",
     "checksum": "26b59c71c98aa74a451480e472e92934",
     "grade": true,
     "grade_id": "cell-cd5c01945e7e8f55",
     "locked": true,
     "points": 20,
     "schema_version": 3,
     "solution": false,
     "task": false
    },
    "tags": []
   },
   "outputs": [],
   "source": [
    "''' Hidden auto-grader test - do not delete this cell '''"
   ]
  },
  {
   "cell_type": "markdown",
   "metadata": {
    "id": "DphmlDCk5sr5"
   },
   "source": [
    "# Multinomial Regression\n",
    "\n",
    "Load data."
   ]
  },
  {
   "cell_type": "code",
   "execution_count": null,
   "metadata": {
    "id": "SIiy4PBJVh7h",
    "tags": []
   },
   "outputs": [],
   "source": [
    "!pip install datasets"
   ]
  },
  {
   "cell_type": "code",
   "execution_count": null,
   "metadata": {
    "id": "GrcwUiN-VfSf"
   },
   "outputs": [],
   "source": [
    "import datasets \n",
    "from datasets import load_dataset"
   ]
  },
  {
   "cell_type": "markdown",
   "metadata": {
    "id": "gqcveFex52Fy"
   },
   "source": [
    "Unlike earlier, we will use a pre-defined set of embeddings, called [GLoVe](https://nlp.stanford.edu/projects/glove/). GLoVe replaces every word with a 100-dimensional vector of floating point values. The advantage of this is that words with similar semantic meanings will have similar vectors. This is important because the vocabulary size of the corpus we will use is 400,000.\n",
    "\n",
    "For the assigment, instead of getting a one-hot vector for each word, the neural network will get a `batch_size x num_words x 100` tensor containing floating point values.\n",
    "\n",
    "Download the GLoVe embedding vectors."
   ]
  },
  {
   "cell_type": "code",
   "execution_count": null,
   "metadata": {
    "id": "7zIXPea4pZCi"
   },
   "outputs": [],
   "source": [
    "import gensim\n",
    "import gensim.downloader"
   ]
  },
  {
   "cell_type": "code",
   "execution_count": null,
   "metadata": {
    "id": "-_CNat0Qpf_b"
   },
   "outputs": [],
   "source": [
    "glove_vectors = gensim.downloader.load('glove-wiki-gigaword-100')\n",
    "VOCAB_SIZE = len(glove_vectors.vectors)\n",
    "EMBEDDING_DIM = 100"
   ]
  },
  {
   "cell_type": "markdown",
   "metadata": {
    "id": "jRcY0APp-9YI"
   },
   "source": [
    "This function will embed the dataset into sequences of 100-dimension vectors."
   ]
  },
  {
   "cell_type": "code",
   "execution_count": null,
   "metadata": {
    "id": "Yo6wUdb9s97G"
   },
   "outputs": [],
   "source": [
    "# pad dataset to a maximum review length in words\n",
    "MAX_LEN = 50\n",
    "\n",
    "def get_glove_seq(review, max_len):\n",
    "  seq = np.zeros((max_len, 100))\n",
    "  for i, word in enumerate(review):\n",
    "    if i < max_len and word in glove_vectors:\n",
    "      seq[i] = glove_vectors[word]\n",
    "  return seq"
   ]
  },
  {
   "cell_type": "code",
   "execution_count": null,
   "metadata": {
    "id": "ZtpvG4mJnwMf"
   },
   "outputs": [],
   "source": [
    "news_data_train = load_dataset(\"ag_news\", split=\"train\").shuffle()\n",
    "news_data_test = load_dataset(\"ag_news\", split=\"test\").shuffle()\n",
    "NEWS_TRAIN = pd.DataFrame(news_data_train)[:5000]\n",
    "NEWS_TEST = pd.DataFrame(news_data_test)[:5000]\n",
    "NUM_LABELS = 4"
   ]
  },
  {
   "cell_type": "code",
   "execution_count": null,
   "metadata": {
    "id": "pmx1OElZaAki"
   },
   "outputs": [],
   "source": [
    "NEWS_TEST.head()"
   ]
  },
  {
   "cell_type": "markdown",
   "metadata": {
    "id": "e5IzjEK0Ixxl"
   },
   "source": [
    "Train/Test Sets using GloVe embeddings."
   ]
  },
  {
   "cell_type": "code",
   "execution_count": null,
   "metadata": {
    "id": "-I8PSBk-I6qM"
   },
   "outputs": [],
   "source": [
    "# Vectorize text reviews to numbers\n",
    "X_NEWS_TRAIN = np.zeros((len(NEWS_TRAIN), MAX_LEN, 100))\n",
    "X_NEWS_TEST = np.zeros((len(NEWS_TEST), MAX_LEN, 100))\n",
    "\n",
    "for i, row in NEWS_TRAIN.iterrows():\n",
    "  X_NEWS_TRAIN[i] = get_glove_seq(tokenize_and_clean(row['text'], stem_and_remove_stop_words=False), MAX_LEN)\n",
    "\n",
    "for i, row in NEWS_TEST.iterrows():\n",
    "  X_NEWS_TEST[i] = get_glove_seq(tokenize_and_clean(row['text'], stem_and_remove_stop_words=False), MAX_LEN)\n",
    "\n",
    "Y_NEWS_TRAIN = np.array(NEWS_TRAIN['label'])\n",
    "Y_NEWS_TEST = np.array(NEWS_TEST['label'])\n",
    "NUM_LABELS = 4"
   ]
  },
  {
   "cell_type": "code",
   "execution_count": null,
   "metadata": {
    "deletable": false,
    "id": "i1-mK1-EPbQL",
    "nbgrader": {
     "cell_type": "code",
     "checksum": "95a2701249da06764a91a990e6d94edd",
     "grade": false,
     "grade_id": "cell-64776db849e2cffa",
     "locked": false,
     "schema_version": 3,
     "solution": true,
     "task": false
    },
    "tags": []
   },
   "outputs": [],
   "source": [
    "# Defining neural network structure\n",
    "class MultinomialBoWClassifier(nn.Module):  # inheriting from nn.Module!\n",
    "  def __init__(self, max_word_len, embedding_dim, num_labels):\n",
    "    super(MultinomialBoWClassifier, self).__init__()\n",
    "    self.max_word_len = max_word_len\n",
    "    self.embedding_dim = embedding_dim\n",
    "    self.num_labels = num_labels\n",
    "    # YOUR CODE HERE\n",
    "    raise NotImplementedError()\n",
    "\n",
    "  def forward(self, x): \n",
    "    out = None\n",
    "    # YOUR CODE HERE\n",
    "    raise NotImplementedError()\n",
    "    return out"
   ]
  },
  {
   "cell_type": "code",
   "execution_count": null,
   "metadata": {
    "id": "_eVavHp7TOxv"
   },
   "outputs": [],
   "source": [
    "multibow_model = MultinomialBoWClassifier(max_word_len=MAX_LEN, embedding_dim=EMBEDDING_DIM, num_labels=NUM_LABELS)\n",
    "multibow_model.to(device)\n"
   ]
  },
  {
   "cell_type": "code",
   "execution_count": null,
   "metadata": {
    "id": "wc0JD91dP9-a"
   },
   "outputs": [],
   "source": [
    "# Train the model\n",
    "def train(model, x_train_data, y_train_data, epochs, batch_size, lr, weight_decay):\n",
    "  print('Training Started!')\n",
    "  optimizer = optim.Adam(model.parameters(), lr=LEARNING_RATE, weight_decay=WEIGHT_DECAY)\n",
    "  criterion = nn.CrossEntropyLoss()\n",
    "  n_iter = len(x_train_data) // batch_size\n",
    "  print(n_iter, 'batches per epoch')\n",
    "\n",
    "  for epoch in range(epochs):\n",
    "    num_correct = 0\n",
    "    total_loss = 0.0\n",
    "    model.train()\n",
    "\n",
    "    for i in range(n_iter):\n",
    "      x, y = get_batch(i, batch_size, x_train_data, y_train_data)\n",
    "      x = x.to(device)\n",
    "      y = y.long().to(device)\n",
    "\n",
    "      y_hat = model(x)\n",
    "      loss = criterion(y_hat, y)\n",
    "      total_loss += loss\n",
    "      optimizer.zero_grad()\n",
    "      loss.backward()\n",
    "      optimizer.step()\n",
    "\n",
    "      if (epoch+1)%10 == 0 and (i+1) == n_iter:\n",
    "        print('epoch:', epoch+1,',loss =',loss.item(), ', training accuracy =',(y_hat.argmax(dim=1)==y).float().mean().item())"
   ]
  },
  {
   "cell_type": "code",
   "execution_count": null,
   "metadata": {
    "id": "POVLJlC0_mEl"
   },
   "outputs": [],
   "source": [
    "# It's ok to modify this cell.\n",
    "BATCH_SIZE = 10\n",
    "N_EPOCHS = 100\n",
    "LEARNING_RATE = 2e-3\n",
    "WEIGHT_DECAY = 1e-2"
   ]
  },
  {
   "cell_type": "code",
   "execution_count": null,
   "metadata": {
    "id": "uhVQB2RCbPj7",
    "tags": []
   },
   "outputs": [],
   "source": [
    "train(multibow_model, X_NEWS_TRAIN, Y_NEWS_TRAIN, N_EPOCHS, BATCH_SIZE, lr=LEARNING_RATE, weight_decay=WEIGHT_DECAY)"
   ]
  },
  {
   "cell_type": "markdown",
   "metadata": {
    "id": "50_KqANXCtbs"
   },
   "source": [
    "# Multinomial Regression - Test (40 Points)"
   ]
  },
  {
   "cell_type": "code",
   "execution_count": null,
   "metadata": {
    "id": "e9ENFPhRIKUF"
   },
   "outputs": [],
   "source": [
    "multibow_model.eval()\n",
    "\n",
    "with torch.no_grad():\n",
    "    text_vec = torch.tensor(X_NEWS_TEST, dtype=torch.float, device=device)\n",
    "    probs = multibow_model(text_vec)\n",
    "    pred = probs.argmax(dim=1)\n",
    "\n",
    "targets = torch.tensor(Y_NEWS_TEST, device=device)"
   ]
  },
  {
   "cell_type": "code",
   "execution_count": null,
   "metadata": {
    "id": "Ltz2NZ_4u9Cr"
   },
   "outputs": [],
   "source": [
    "# student check - accuracies >= 80% will receive full credit (no credit for less than 80%)\n",
    "(pred==targets).float().mean().item()"
   ]
  },
  {
   "cell_type": "code",
   "execution_count": null,
   "metadata": {
    "deletable": false,
    "editable": false,
    "id": "FFtKpTdSuyxy",
    "nbgrader": {
     "cell_type": "code",
     "checksum": "ac6d1603fc26687666de3e39352cf627",
     "grade": true,
     "grade_id": "cell-e489259c0e7f9377",
     "locked": true,
     "points": 40,
     "schema_version": 3,
     "solution": false,
     "task": false
    },
    "tags": []
   },
   "outputs": [],
   "source": [
    "''' Hidden auto-grader test - do not delete this cell '''"
   ]
  },
  {
   "cell_type": "markdown",
   "metadata": {
    "id": "hKEYvlbhS7n9"
   },
   "source": [
    "# Grading\n",
    "\n",
    "Please submit this .ipynb file to Canvas for grading."
   ]
  }
 ],
 "metadata": {
  "bento_stylesheets": {
   "bento/extensions/flow/main.css": true,
   "bento/extensions/kernel_selector/main.css": true,
   "bento/extensions/kernel_ui/main.css": true,
   "bento/extensions/new_kernel/main.css": true,
   "bento/extensions/system_usage/main.css": true,
   "bento/extensions/theme/main.css": true
  },
  "captumWidgetMessage": {},
  "colab": {
   "private_outputs": true,
   "provenance": [
    {
     "file_id": "1TsKPn8cwghhFR-TwD0la25YRRzhw4XF9",
     "timestamp": 1685998969758
    }
   ]
  },
  "dataExplorerConfig": {},
  "kernelspec": {
   "display_name": "Python 3",
   "name": "python3"
  },
  "language_info": {
   "codemirror_mode": {
    "name": "ipython",
    "version": 3
   },
   "file_extension": ".py",
   "mimetype": "text/x-python",
   "name": "python",
   "nbconvert_exporter": "python",
   "pygments_lexer": "ipython3",
   "version": "3.8.1"
  },
  "last_base_url": "https://11238.od.fbinfra.net/",
  "last_kernel_id": "8832c409-9272-44ac-a889-c233991c3bb0",
  "last_msg_id": "354bb3e2-f350a4bd64779ec7f6ce4382_4332",
  "last_server_session_id": "5625d4d2-18a1-473d-bf89-0f1a5ecc7c7b",
  "outputWidgetContext": {}
 },
 "nbformat": 4,
 "nbformat_minor": 0
}
